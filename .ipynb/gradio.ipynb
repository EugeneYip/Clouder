{
 "cells": [
  {
   "cell_type": "code",
   "execution_count": 1,
   "id": "df85c991",
   "metadata": {},
   "outputs": [
    {
     "name": "stdout",
     "output_type": "stream",
     "text": [
      "Collecting gradio\n",
      "  Downloading gradio-3.1.3-py3-none-any.whl (5.6 MB)"
     ]
    },
    {
     "name": "stderr",
     "output_type": "stream",
     "text": [
      "WARNING: There was an error checking the latest version of pip.\n"
     ]
    },
    {
     "name": "stdout",
     "output_type": "stream",
     "text": [
      "\n",
      "     ---------------------------------------- 5.6/5.6 MB 6.7 MB/s eta 0:00:00\n",
      "Collecting pydub\n",
      "  Downloading pydub-0.25.1-py2.py3-none-any.whl (32 kB)\n",
      "Requirement already satisfied: matplotlib in c:\\users\\linnn\\anaconda3\\lib\\site-packages (from gradio) (3.5.2)\n",
      "Requirement already satisfied: pandas in c:\\users\\linnn\\anaconda3\\lib\\site-packages (from gradio) (1.2.4)\n",
      "Requirement already satisfied: requests in c:\\users\\linnn\\anaconda3\\lib\\site-packages (from gradio) (2.26.0)\n",
      "Requirement already satisfied: h11<0.13,>=0.11 in c:\\users\\linnn\\anaconda3\\lib\\site-packages (from gradio) (0.12.0)\n",
      "Requirement already satisfied: Jinja2 in c:\\users\\linnn\\anaconda3\\lib\\site-packages (from gradio) (2.11.3)\n",
      "Requirement already satisfied: pillow in c:\\users\\linnn\\anaconda3\\lib\\site-packages (from gradio) (8.2.0)\n",
      "Requirement already satisfied: numpy in c:\\users\\linnn\\anaconda3\\lib\\site-packages (from gradio) (1.20.1)\n",
      "Requirement already satisfied: fsspec in c:\\users\\linnn\\anaconda3\\lib\\site-packages (from gradio) (0.9.0)\n",
      "Collecting fastapi\n",
      "  Downloading fastapi-0.79.0-py3-none-any.whl (54 kB)\n",
      "     ---------------------------------------- 54.6/54.6 kB 2.8 MB/s eta 0:00:00\n",
      "Collecting ffmpy\n",
      "  Downloading ffmpy-0.3.0.tar.gz (4.8 kB)\n",
      "  Preparing metadata (setup.py): started\n",
      "  Preparing metadata (setup.py): finished with status 'done'\n",
      "Collecting httpx\n",
      "  Downloading httpx-0.23.0-py3-none-any.whl (84 kB)\n",
      "     ---------------------------------------- 84.8/84.8 kB ? eta 0:00:00\n",
      "Collecting markdown-it-py[linkify,plugins]\n",
      "  Downloading markdown_it_py-2.1.0-py3-none-any.whl (84 kB)\n",
      "     ---------------------------------------- 84.5/84.5 kB 4.6 MB/s eta 0:00:00\n",
      "Requirement already satisfied: aiohttp in c:\\users\\linnn\\anaconda3\\lib\\site-packages (from gradio) (3.8.1)\n",
      "Collecting orjson\n",
      "  Downloading orjson-3.7.11-cp38-none-win_amd64.whl (199 kB)\n",
      "     ------------------------------------- 199.7/199.7 kB 11.8 MB/s eta 0:00:00\n",
      "Collecting pycryptodome\n",
      "  Downloading pycryptodome-3.15.0-cp35-abi3-win_amd64.whl (1.9 MB)\n",
      "     ---------------------------------------- 1.9/1.9 MB 6.8 MB/s eta 0:00:00\n",
      "Collecting analytics-python\n",
      "  Downloading analytics_python-1.4.0-py2.py3-none-any.whl (15 kB)\n",
      "Collecting python-multipart\n",
      "  Downloading python-multipart-0.0.5.tar.gz (32 kB)\n",
      "  Preparing metadata (setup.py): started\n",
      "  Preparing metadata (setup.py): finished with status 'done'\n",
      "Collecting pydantic\n",
      "  Downloading pydantic-1.9.1-cp38-cp38-win_amd64.whl (2.1 MB)\n",
      "     ---------------------------------------- 2.1/2.1 MB 7.3 MB/s eta 0:00:00\n",
      "Collecting uvicorn\n",
      "  Downloading uvicorn-0.18.2-py3-none-any.whl (57 kB)\n",
      "     ---------------------------------------- 57.0/57.0 kB 2.9 MB/s eta 0:00:00\n",
      "Requirement already satisfied: paramiko in c:\\users\\linnn\\anaconda3\\lib\\site-packages (from gradio) (2.7.2)\n",
      "Requirement already satisfied: aiosignal>=1.1.2 in c:\\users\\linnn\\anaconda3\\lib\\site-packages (from aiohttp->gradio) (1.2.0)\n",
      "Requirement already satisfied: async-timeout<5.0,>=4.0.0a3 in c:\\users\\linnn\\anaconda3\\lib\\site-packages (from aiohttp->gradio) (4.0.2)\n",
      "Requirement already satisfied: yarl<2.0,>=1.0 in c:\\users\\linnn\\anaconda3\\lib\\site-packages (from aiohttp->gradio) (1.7.2)\n",
      "Requirement already satisfied: multidict<7.0,>=4.5 in c:\\users\\linnn\\anaconda3\\lib\\site-packages (from aiohttp->gradio) (6.0.2)\n",
      "Requirement already satisfied: charset-normalizer<3.0,>=2.0 in c:\\users\\linnn\\anaconda3\\lib\\site-packages (from aiohttp->gradio) (2.0.9)\n",
      "Requirement already satisfied: frozenlist>=1.1.1 in c:\\users\\linnn\\anaconda3\\lib\\site-packages (from aiohttp->gradio) (1.3.0)\n",
      "Requirement already satisfied: attrs>=17.3.0 in c:\\users\\linnn\\anaconda3\\lib\\site-packages (from aiohttp->gradio) (20.3.0)\n",
      "Requirement already satisfied: python-dateutil>2.1 in c:\\users\\linnn\\anaconda3\\lib\\site-packages (from analytics-python->gradio) (2.8.1)\n",
      "Collecting backoff==1.10.0\n",
      "  Downloading backoff-1.10.0-py2.py3-none-any.whl (31 kB)\n",
      "Requirement already satisfied: six>=1.5 in c:\\users\\linnn\\anaconda3\\lib\\site-packages (from analytics-python->gradio) (1.15.0)\n",
      "Collecting monotonic>=1.5\n",
      "  Downloading monotonic-1.6-py2.py3-none-any.whl (8.2 kB)\n",
      "Requirement already satisfied: idna<4,>=2.5 in c:\\users\\linnn\\anaconda3\\lib\\site-packages (from requests->gradio) (2.10)\n",
      "Requirement already satisfied: urllib3<1.27,>=1.21.1 in c:\\users\\linnn\\anaconda3\\lib\\site-packages (from requests->gradio) (1.26.4)\n",
      "Requirement already satisfied: certifi>=2017.4.17 in c:\\users\\linnn\\anaconda3\\lib\\site-packages (from requests->gradio) (2020.12.5)\n",
      "Collecting starlette==0.19.1\n",
      "  Downloading starlette-0.19.1-py3-none-any.whl (63 kB)\n",
      "     ---------------------------------------- 63.3/63.3 kB 3.3 MB/s eta 0:00:00\n",
      "Collecting typing-extensions>=3.10.0\n",
      "  Downloading typing_extensions-4.3.0-py3-none-any.whl (25 kB)\n",
      "Collecting anyio<5,>=3.4.0\n",
      "  Downloading anyio-3.6.1-py3-none-any.whl (80 kB)\n",
      "     ---------------------------------------- 80.6/80.6 kB 4.7 MB/s eta 0:00:00\n",
      "Requirement already satisfied: sniffio in c:\\users\\linnn\\anaconda3\\lib\\site-packages (from httpx->gradio) (1.2.0)\n",
      "Collecting rfc3986[idna2008]<2,>=1.3\n",
      "  Downloading rfc3986-1.5.0-py2.py3-none-any.whl (31 kB)\n",
      "Collecting httpcore<0.16.0,>=0.15.0\n",
      "  Downloading httpcore-0.15.0-py3-none-any.whl (68 kB)\n",
      "     ---------------------------------------- 68.4/68.4 kB ? eta 0:00:00\n",
      "Requirement already satisfied: MarkupSafe>=0.23 in c:\\users\\linnn\\anaconda3\\lib\\site-packages (from Jinja2->gradio) (1.1.1)\n",
      "Collecting mdurl~=0.1\n",
      "  Downloading mdurl-0.1.1-py3-none-any.whl (10 kB)\n",
      "Collecting linkify-it-py~=1.0\n",
      "  Downloading linkify_it_py-1.0.3-py3-none-any.whl (19 kB)\n",
      "Collecting mdit-py-plugins\n",
      "  Downloading mdit_py_plugins-0.3.0-py3-none-any.whl (43 kB)\n",
      "     ---------------------------------------- 43.7/43.7 kB ? eta 0:00:00\n",
      "Requirement already satisfied: fonttools>=4.22.0 in c:\\users\\linnn\\anaconda3\\lib\\site-packages (from matplotlib->gradio) (4.33.3)\n",
      "Requirement already satisfied: cycler>=0.10 in c:\\users\\linnn\\anaconda3\\lib\\site-packages (from matplotlib->gradio) (0.10.0)\n",
      "Requirement already satisfied: kiwisolver>=1.0.1 in c:\\users\\linnn\\anaconda3\\lib\\site-packages (from matplotlib->gradio) (1.3.1)\n",
      "Requirement already satisfied: packaging>=20.0 in c:\\users\\linnn\\anaconda3\\lib\\site-packages (from matplotlib->gradio) (21.3)\n",
      "Requirement already satisfied: pyparsing>=2.2.1 in c:\\users\\linnn\\anaconda3\\lib\\site-packages (from matplotlib->gradio) (2.4.7)\n",
      "Requirement already satisfied: pytz>=2017.3 in c:\\users\\linnn\\anaconda3\\lib\\site-packages (from pandas->gradio) (2021.1)\n",
      "Requirement already satisfied: bcrypt>=3.1.3 in c:\\users\\linnn\\anaconda3\\lib\\site-packages (from paramiko->gradio) (3.2.0)\n",
      "Requirement already satisfied: cryptography>=2.5 in c:\\users\\linnn\\anaconda3\\lib\\site-packages (from paramiko->gradio) (3.4.7)\n",
      "Requirement already satisfied: pynacl>=1.0.1 in c:\\users\\linnn\\anaconda3\\lib\\site-packages (from paramiko->gradio) (1.4.0)\n",
      "Requirement already satisfied: click>=7.0 in c:\\users\\linnn\\anaconda3\\lib\\site-packages (from uvicorn->gradio) (7.1.2)\n",
      "Requirement already satisfied: cffi>=1.1 in c:\\users\\linnn\\anaconda3\\lib\\site-packages (from bcrypt>=3.1.3->paramiko->gradio) (1.14.5)\n",
      "Collecting uc-micro-py\n",
      "  Downloading uc_micro_py-1.0.1-py3-none-any.whl (6.2 kB)\n",
      "Requirement already satisfied: pycparser in c:\\users\\linnn\\anaconda3\\lib\\site-packages (from cffi>=1.1->bcrypt>=3.1.3->paramiko->gradio) (2.20)\n",
      "Building wheels for collected packages: ffmpy, python-multipart\n",
      "  Building wheel for ffmpy (setup.py): started\n",
      "  Building wheel for ffmpy (setup.py): finished with status 'done'\n",
      "  Created wheel for ffmpy: filename=ffmpy-0.3.0-py3-none-any.whl size=4709 sha256=00f49fb9e15c0748d3823bfaac43bb6ab86f474674344c854f85ea734071626b\n",
      "  Stored in directory: c:\\users\\linnn\\appdata\\local\\pip\\cache\\wheels\\ff\\5b\\59\\913b443e7369dc04b61f607a746b6f7d83fb65e2e19fcc958d\n",
      "  Building wheel for python-multipart (setup.py): started\n",
      "  Building wheel for python-multipart (setup.py): finished with status 'done'\n",
      "  Created wheel for python-multipart: filename=python_multipart-0.0.5-py3-none-any.whl size=31670 sha256=3fc3f702d0d481e26368e887b67867165920fafb5434e2f43afd8d25220eaafe\n",
      "  Stored in directory: c:\\users\\linnn\\appdata\\local\\pip\\cache\\wheels\\9e\\fc\\1c\\cf980e6413d3ee8e70cd8f39e2366b0f487e3e221aeb452eb0\n",
      "Successfully built ffmpy python-multipart\n",
      "Installing collected packages: rfc3986, pydub, monotonic, ffmpy, uvicorn, uc-micro-py, typing-extensions, python-multipart, pycryptodome, orjson, mdurl, backoff, anyio, starlette, pydantic, markdown-it-py, linkify-it-py, httpcore, analytics-python, mdit-py-plugins, httpx, fastapi, gradio\n",
      "  Attempting uninstall: typing-extensions\n",
      "    Found existing installation: typing-extensions 3.7.4.3\n",
      "    Uninstalling typing-extensions-3.7.4.3:\n",
      "      Successfully uninstalled typing-extensions-3.7.4.3\n",
      "  Attempting uninstall: anyio\n",
      "    Found existing installation: anyio 2.2.0\n",
      "    Uninstalling anyio-2.2.0:\n",
      "      Successfully uninstalled anyio-2.2.0\n",
      "Successfully installed analytics-python-1.4.0 anyio-3.6.1 backoff-1.10.0 fastapi-0.79.0 ffmpy-0.3.0 gradio-3.1.3 httpcore-0.15.0 httpx-0.23.0 linkify-it-py-1.0.3 markdown-it-py-2.1.0 mdit-py-plugins-0.3.0 mdurl-0.1.1 monotonic-1.6 orjson-3.7.11 pycryptodome-3.15.0 pydantic-1.9.1 pydub-0.25.1 python-multipart-0.0.5 rfc3986-1.5.0 starlette-0.19.1 typing-extensions-4.3.0 uc-micro-py-1.0.1 uvicorn-0.18.2\n"
     ]
    }
   ],
   "source": [
    "!pip install gradio"
   ]
  },
  {
   "cell_type": "code",
   "execution_count": 1,
   "id": "ec2da44d",
   "metadata": {},
   "outputs": [
    {
     "name": "stdout",
     "output_type": "stream",
     "text": [
      "Running on local URL:  http://127.0.0.1:7860/\n",
      "\n",
      "To create a public link, set `share=True` in `launch()`.\n"
     ]
    },
    {
     "data": {
      "text/html": [
       "<div><iframe src=\"http://127.0.0.1:7860/\" width=\"900\" height=\"500\" allow=\"autoplay; camera; microphone;\" frameborder=\"0\" allowfullscreen></iframe></div>"
      ],
      "text/plain": [
       "<IPython.core.display.HTML object>"
      ]
     },
     "metadata": {},
     "output_type": "display_data"
    },
    {
     "data": {
      "text/plain": [
       "(<gradio.routes.App at 0x27bf489d6d0>, 'http://127.0.0.1:7860/', None)"
      ]
     },
     "execution_count": 1,
     "metadata": {},
     "output_type": "execute_result"
    }
   ],
   "source": [
    "import gradio as gr\n",
    "def greet(name):\n",
    "    return 'Hello ' + name + '!'\n",
    "demo = gr.Interface(fn = greet,inputs = 'text',outputs = 'text')\n",
    "demo.launch()"
   ]
  },
  {
   "cell_type": "code",
   "execution_count": 4,
   "id": "9a1d0aa1",
   "metadata": {},
   "outputs": [
    {
     "name": "stdout",
     "output_type": "stream",
     "text": [
      "Running on local URL:  http://127.0.0.1:7861/\n",
      "\n",
      "To create a public link, set `share=True` in `launch()`.\n"
     ]
    },
    {
     "data": {
      "text/html": [
       "<div><iframe src=\"http://127.0.0.1:7861/\" width=\"900\" height=\"500\" allow=\"autoplay; camera; microphone;\" frameborder=\"0\" allowfullscreen></iframe></div>"
      ],
      "text/plain": [
       "<IPython.core.display.HTML object>"
      ]
     },
     "metadata": {},
     "output_type": "display_data"
    },
    {
     "data": {
      "text/plain": [
       "(<gradio.routes.App at 0x1fefc558460>, 'http://127.0.0.1:7861/', None)"
      ]
     },
     "execution_count": 4,
     "metadata": {},
     "output_type": "execute_result"
    }
   ],
   "source": [
    "demo = gr.Interface(fn = greet,inputs = gr.Textbox(lines = 2,placeholder = 'Name here...'),outputs = 'text')\n",
    "demo.launch()"
   ]
  },
  {
   "cell_type": "code",
   "execution_count": 8,
   "id": "3a3e21e7",
   "metadata": {},
   "outputs": [
    {
     "name": "stdout",
     "output_type": "stream",
     "text": [
      "Running on local URL:  http://127.0.0.1:7864/\n",
      "\n",
      "To create a public link, set `share=True` in `launch()`.\n"
     ]
    },
    {
     "data": {
      "text/html": [
       "<div><iframe src=\"http://127.0.0.1:7864/\" width=\"900\" height=\"500\" allow=\"autoplay; camera; microphone;\" frameborder=\"0\" allowfullscreen></iframe></div>"
      ],
      "text/plain": [
       "<IPython.core.display.HTML object>"
      ]
     },
     "metadata": {},
     "output_type": "display_data"
    },
    {
     "data": {
      "text/plain": [
       "(<gradio.routes.App at 0x17492660fa0>, 'http://127.0.0.1:7864/', None)"
      ]
     },
     "execution_count": 8,
     "metadata": {},
     "output_type": "execute_result"
    }
   ],
   "source": [
    "def greet(name,is_morning,temperature):         #函數的名字將會顯示在input的欄位名稱上\n",
    "    salutation = 'Good morning' if is_morning else 'Good evening'\n",
    "    greeting = f\"{salutation} {name}. It is {temperature} degrees today\"\n",
    "    celsius = (temperature - 32 ) * 5 / 9 \n",
    "    return greeting,round(celsius,2)\n",
    "demo = gr.Interface(fn = greet,inputs = ['text','checkbox',gr.Slider(0,100)],\n",
    "                               outputs = ['text','number'])\n",
    "demo.launch()"
   ]
  },
  {
   "cell_type": "code",
   "execution_count": 2,
   "id": "827cf9cf",
   "metadata": {},
   "outputs": [
    {
     "name": "stdout",
     "output_type": "stream",
     "text": [
      "Running on local URL:  http://127.0.0.1:7860/\n",
      "\n",
      "To create a public link, set `share=True` in `launch()`.\n"
     ]
    },
    {
     "data": {
      "text/html": [
       "<div><iframe src=\"http://127.0.0.1:7860/\" width=\"900\" height=\"500\" allow=\"autoplay; camera; microphone;\" frameborder=\"0\" allowfullscreen></iframe></div>"
      ],
      "text/plain": [
       "<IPython.core.display.HTML object>"
      ]
     },
     "metadata": {},
     "output_type": "display_data"
    },
    {
     "data": {
      "text/plain": [
       "(<gradio.routes.App at 0x2662c4c9250>, 'http://127.0.0.1:7860/', None)"
      ]
     },
     "execution_count": 2,
     "metadata": {},
     "output_type": "execute_result"
    }
   ],
   "source": [
    "import numpy as np\n",
    "import gradio as gr\n",
    "def sepia(input_img):\n",
    "    sepia_filter = np.array([\n",
    "        [0.393,0.769,0.189],\n",
    "        [0.349,0.686,0.168],\n",
    "        [0.272,0.534,0.131]\n",
    "    ])\n",
    "    sepia_img = input_img.dot(sepia_filter.T)\n",
    "    sepia_img /= sepia_img.max()\n",
    "    return sepia_img\n",
    "demo = gr.Interface(sepia,gr.Image(shape=(200,200)),'image')\n",
    "demo.launch()"
   ]
  },
  {
   "cell_type": "code",
   "execution_count": 14,
   "id": "8c260e83",
   "metadata": {
    "scrolled": false
   },
   "outputs": [
    {
     "name": "stdout",
     "output_type": "stream",
     "text": [
      "Running on local URL:  http://127.0.0.1:7869/\n",
      "\n",
      "To create a public link, set `share=True` in `launch()`.\n"
     ]
    },
    {
     "data": {
      "text/html": [
       "<div><iframe src=\"http://127.0.0.1:7869/\" width=\"900\" height=\"500\" allow=\"autoplay; camera; microphone;\" frameborder=\"0\" allowfullscreen></iframe></div>"
      ],
      "text/plain": [
       "<IPython.core.display.HTML object>"
      ]
     },
     "metadata": {},
     "output_type": "display_data"
    },
    {
     "data": {
      "text/plain": [
       "(<gradio.routes.App at 0x1c26184a670>, 'http://127.0.0.1:7869/', None)"
      ]
     },
     "execution_count": 14,
     "metadata": {},
     "output_type": "execute_result"
    }
   ],
   "source": [
    "def greet(name):\n",
    "    return 'Hello ' + name + '!'\n",
    "with gr.Blocks() as demo:\n",
    "    name = gr.Textbox(label = 'Name')\n",
    "    output = gr.Textbox(label = 'Output Box')\n",
    "    greet_btn = gr.Button('greet')\n",
    "    greet_btn.click(fn = greet,inputs = name,outputs = output)\n",
    "\n",
    "demo.launch()"
   ]
  },
  {
   "cell_type": "markdown",
   "id": "8de140cb",
   "metadata": {},
   "source": [
    "# 反轉"
   ]
  },
  {
   "cell_type": "code",
   "execution_count": 1,
   "id": "0a1049d0",
   "metadata": {
    "scrolled": true
   },
   "outputs": [
    {
     "name": "stdout",
     "output_type": "stream",
     "text": [
      "Running on local URL:  http://127.0.0.1:7863/\n",
      "\n",
      "To create a public link, set `share=True` in `launch()`.\n"
     ]
    },
    {
     "data": {
      "text/html": [
       "<div><iframe src=\"http://127.0.0.1:7863/\" width=\"900\" height=\"500\" allow=\"autoplay; camera; microphone;\" frameborder=\"0\" allowfullscreen></iframe></div>"
      ],
      "text/plain": [
       "<IPython.core.display.HTML object>"
      ]
     },
     "metadata": {},
     "output_type": "display_data"
    },
    {
     "data": {
      "text/plain": [
       "(<gradio.routes.App at 0x1c9d30dca00>, 'http://127.0.0.1:7863/', None)"
      ]
     },
     "execution_count": 1,
     "metadata": {},
     "output_type": "execute_result"
    }
   ],
   "source": [
    "import numpy as np\n",
    "import gradio as gr\n",
    "def flip_text(x):\n",
    "    return x[::-1]     #從尾數到頭\n",
    "def flip_image(x):\n",
    "    return np.fliplr(x)     #將矩陣做反轉 (外部匯入圖片存進自訂變數時，存在變數裡的並不是我們直觀想像的真實圖片，\n",
    "                            #而是一個由row和col組成的二維陣列，每一個陣列元素存放的都是RGB三色混雜的像素點，\n",
    "\n",
    "                                        #像素點越多(陣列越大)圖片也就越清晰。\n",
    "with gr.Blocks() as demo:\n",
    "    gr.Markdown('Flip text or image files using this demo.')\n",
    "    with gr.Tabs():\n",
    "        with gr.TabItem('Flip Text'):\n",
    "            text_input = gr.Textbox()\n",
    "            text_output = gr.Textbox()\n",
    "            text_button = gr.Button('Flip')\n",
    "        with gr.TabItem('Flip image'):\n",
    "            with gr.Row():\n",
    "                image_input = gr.Image()\n",
    "                image_output = gr.Image()\n",
    "            image_button = gr.Button('Flip')\n",
    "            \n",
    "    text_button.click(flip_text,inputs = text_input,outputs = text_output)\n",
    "    image_button.click(flip_image,inputs = image_input,outputs = image_output)\n",
    "\n",
    "demo.launch()"
   ]
  },
  {
   "cell_type": "code",
   "execution_count": 13,
   "id": "aeccd1db",
   "metadata": {},
   "outputs": [
    {
     "name": "stdout",
     "output_type": "stream",
     "text": [
      "Running on local URL:  http://127.0.0.1:7868/\n",
      "Running on public URL: https://54877.gradio.app\n",
      "\n",
      "This share link expires in 72 hours. For free permanent hosting, check out Spaces: https://huggingface.co/spaces\n"
     ]
    },
    {
     "data": {
      "text/html": [
       "<div><iframe src=\"https://54877.gradio.app\" width=\"900\" height=\"500\" allow=\"autoplay; camera; microphone;\" frameborder=\"0\" allowfullscreen></iframe></div>"
      ],
      "text/plain": [
       "<IPython.core.display.HTML object>"
      ]
     },
     "metadata": {},
     "output_type": "display_data"
    },
    {
     "data": {
      "text/plain": [
       "(<gradio.routes.App at 0x1c261858ac0>,\n",
       " 'http://127.0.0.1:7868/',\n",
       " 'https://54877.gradio.app')"
      ]
     },
     "execution_count": 13,
     "metadata": {},
     "output_type": "execute_result"
    }
   ],
   "source": [
    "import gradio as gr\n",
    "def calculator(num1,operation,num2):\n",
    "    if operation == 'add':\n",
    "        return num1 + num2\n",
    "    elif operation == 'subtract':\n",
    "        return num1 - num2\n",
    "    elif operation == 'multiply':\n",
    "        return num1 * num2\n",
    "    elif operation == 'divide':\n",
    "        return num1 / num2\n",
    "    \n",
    "demo = gr.Interface(\n",
    "        calculator,[\"number\",gr.Radio(['add','subtract','multiply','divide']), \"number\"],'number',\n",
    "        examples = [[5,'add',3],\n",
    "                    [4,'subtract',2],\n",
    "                    [7,'multiply',2],\n",
    "                    [10,'divide',2]],\n",
    "        title = 'Toy Calculator',\n",
    "        description = \"Here's a simple toy calculator. Enjoy !\")\n",
    "demo.launch(share = True)"
   ]
  },
  {
   "cell_type": "code",
   "execution_count": 2,
   "id": "ee118a24",
   "metadata": {},
   "outputs": [
    {
     "name": "stdout",
     "output_type": "stream",
     "text": [
      "Running on local URL:  http://127.0.0.1:7861/\n",
      "\n",
      "To create a public link, set `share=True` in `launch()`.\n"
     ]
    },
    {
     "data": {
      "text/html": [
       "<div><iframe src=\"http://127.0.0.1:7861/\" width=\"900\" height=\"500\" allow=\"autoplay; camera; microphone;\" frameborder=\"0\" allowfullscreen></iframe></div>"
      ],
      "text/plain": [
       "<IPython.core.display.HTML object>"
      ]
     },
     "metadata": {},
     "output_type": "display_data"
    },
    {
     "data": {
      "text/plain": [
       "(<gradio.routes.App at 0x1700a90cee0>, 'http://127.0.0.1:7861/', None)"
      ]
     },
     "execution_count": 2,
     "metadata": {},
     "output_type": "execute_result"
    }
   ],
   "source": [
    "import gradio as gr \n",
    "\n",
    "scores = []\n",
    "\n",
    "def track_score(score):\n",
    "    scores.append(score)\n",
    "    top_scores = sorted(scores,reverse = True)[:3]    #順序前後顛倒後，印出前三筆資料\n",
    "    return top_scores\n",
    "\n",
    "demo = gr.Interface(track_score,gr.Number(label='Score'),gr.Json(label = 'Top Scores'))\n",
    "demo.launch()"
   ]
  },
  {
   "cell_type": "code",
   "execution_count": 13,
   "id": "86f77157",
   "metadata": {},
   "outputs": [
    {
     "name": "stdout",
     "output_type": "stream",
     "text": [
      "Running on local URL:  http://127.0.0.1:7868/\n",
      "\n",
      "To create a public link, set `share=True` in `launch()`.\n"
     ]
    },
    {
     "data": {
      "text/html": [
       "<div><iframe src=\"http://127.0.0.1:7868/\" width=\"900\" height=\"500\" allow=\"autoplay; camera; microphone;\" frameborder=\"0\" allowfullscreen></iframe></div>"
      ],
      "text/plain": [
       "<IPython.core.display.HTML object>"
      ]
     },
     "metadata": {},
     "output_type": "display_data"
    },
    {
     "data": {
      "text/plain": [
       "(<gradio.routes.App at 0x1700c2b1dc0>, 'http://127.0.0.1:7868/', None)"
      ]
     },
     "execution_count": 13,
     "metadata": {},
     "output_type": "execute_result"
    }
   ],
   "source": [
    "import random\n",
    "import gradio as gr\n",
    "def chat(message,history):\n",
    "    history = history or []    #利用陣列存放過去資料，之後history會填入資料\n",
    "    message = message.lower()\n",
    "    if message.startswith('how many'):\n",
    "        response = random.randint(1,10)\n",
    "    elif message.startswith('how'):\n",
    "        response = random.choice(['Great','Good','Not good','bad'])\n",
    "    elif message.startswith(\"who's best basketball player?\"):\n",
    "        response = 'Stephen curry'\n",
    "    else:\n",
    "        response = \"I don't know\"\n",
    "    history.append((message,response))\n",
    "    return history,history    #參數有兩個，必須都要回傳資料給他們\n",
    "\n",
    "chatbot = gr.Chatbot().style(color_map = ('green','pink'))\n",
    "demo = gr.Interface(chat,['text','state'],[chatbot,'state'],allow_flagging='never')\n",
    "demo.launch()"
   ]
  },
  {
   "cell_type": "code",
   "execution_count": 14,
   "id": "5ed26a6d",
   "metadata": {},
   "outputs": [
    {
     "name": "stdout",
     "output_type": "stream",
     "text": [
      "Running on local URL:  http://127.0.0.1:7869/\n",
      "\n",
      "To create a public link, set `share=True` in `launch()`.\n"
     ]
    },
    {
     "data": {
      "text/html": [
       "<div><iframe src=\"http://127.0.0.1:7869/\" width=\"900\" height=\"500\" allow=\"autoplay; camera; microphone;\" frameborder=\"0\" allowfullscreen></iframe></div>"
      ],
      "text/plain": [
       "<IPython.core.display.HTML object>"
      ]
     },
     "metadata": {},
     "output_type": "display_data"
    },
    {
     "data": {
      "text/plain": [
       "(<gradio.routes.App at 0x1700c2fd100>, 'http://127.0.0.1:7869/', None)"
      ]
     },
     "execution_count": 14,
     "metadata": {},
     "output_type": "execute_result"
    }
   ],
   "source": [
    "import gradio as gr\n",
    "import numpy as np\n",
    "\n",
    "def flip(im):\n",
    "    return np.flipud(im)\n",
    "\n",
    "demo = gr.Interface(flip,gr.Image(source=\"webcam\",streaming = True),\"image\",live=True)\n",
    "demo.launch()"
   ]
  },
  {
   "cell_type": "code",
   "execution_count": 16,
   "id": "a162ec1c",
   "metadata": {},
   "outputs": [],
   "source": [
    "import requests\n",
    "import tensorflow as tf\n",
    "import gradio as gr\n",
    "\n",
    "inception_net = tf.keras.applications.MobileNetV2()    #Load the Model\n",
    "\n",
    "#Download human-readable labels for ImageNet.\n",
    "response = requests.get('https://git.io/JJkYN')\n",
    "labels = response.text.split('\\n')"
   ]
  },
  {
   "cell_type": "code",
   "execution_count": 3,
   "id": "de246523",
   "metadata": {},
   "outputs": [
    {
     "name": "stdout",
     "output_type": "stream",
     "text": [
      "Running on local URL:  http://127.0.0.1:7860/\n",
      "\n",
      "To create a public link, set `share=True` in `launch()`.\n"
     ]
    },
    {
     "data": {
      "text/html": [
       "<div><iframe src=\"http://127.0.0.1:7860/\" width=\"900\" height=\"500\" allow=\"autoplay; camera; microphone;\" frameborder=\"0\" allowfullscreen></iframe></div>"
      ],
      "text/plain": [
       "<IPython.core.display.HTML object>"
      ]
     },
     "metadata": {},
     "output_type": "display_data"
    },
    {
     "data": {
      "text/plain": [
       "(<gradio.routes.App at 0x1c25161e190>, 'http://127.0.0.1:7860/', None)"
      ]
     },
     "execution_count": 3,
     "metadata": {},
     "output_type": "execute_result"
    }
   ],
   "source": [
    "import gradio as gr\n",
    "\n",
    "scores = []\n",
    "\n",
    "def track_score(score):\n",
    "    scores.append(score)\n",
    "    top_scores = sorted(scores,reverse =True)[:3]\n",
    "    return top_scores\n",
    "\n",
    "demo = gr.Interface(track_score,gr.Number(label='Score'),gr.JSON(label='Top Scores'))\n",
    "demo.launch()"
   ]
  },
  {
   "cell_type": "markdown",
   "id": "a7ca0e5e",
   "metadata": {},
   "source": [
    "# 影像辨識"
   ]
  },
  {
   "cell_type": "code",
   "execution_count": 4,
   "id": "c4e29038",
   "metadata": {},
   "outputs": [
    {
     "name": "stdout",
     "output_type": "stream",
     "text": [
      "Running on local URL:  http://127.0.0.1:7863/\n",
      "Running on public URL: https://58174.gradio.app\n",
      "\n",
      "This share link expires in 72 hours. For free permanent hosting, check out Spaces: https://huggingface.co/spaces\n"
     ]
    },
    {
     "data": {
      "text/html": [
       "<div><iframe src=\"https://58174.gradio.app\" width=\"900\" height=\"500\" allow=\"autoplay; camera; microphone;\" frameborder=\"0\" allowfullscreen></iframe></div>"
      ],
      "text/plain": [
       "<IPython.core.display.HTML object>"
      ]
     },
     "metadata": {},
     "output_type": "display_data"
    },
    {
     "data": {
      "text/plain": [
       "(<gradio.routes.App at 0x1d8ebd9b550>,\n",
       " 'http://127.0.0.1:7863/',\n",
       " 'https://58174.gradio.app')"
      ]
     },
     "execution_count": 4,
     "metadata": {},
     "output_type": "execute_result"
    }
   ],
   "source": [
    "import requests\n",
    "import tensorflow as tf\n",
    "import gradio as gr\n",
    "\n",
    "inception_net = tf.keras.applications.MobileNetV2()  \n",
    "\n",
    "# Download human-readable labels for ImageNet.\n",
    "response = requests.get('https://git.io/JJkYN')   #Load the label model\n",
    "labels = response.text.split('\\n')\n",
    "\n",
    "def classify_image(inp):\n",
    "    inp = inp.reshape((-1,224,224,3))     #如果等于-1的话，那么Numpy会根据剩下的维度计算出数组的另外一个shape属性值。\n",
    "    inp = tf.keras.applications.mobilenet_v2.preprocess_input(inp)    #preprocess_input()是使您的圖像適合模型所需的格式\n",
    "    prediction = inception_net.predict(inp).flatten()\n",
    "    return {labels[i]: float(prediction[i]) for i in range(1000)}\n",
    "\n",
    "image = gr.Image(shape=(224,224))\n",
    "label = gr.Label(num_top_classes=3)\n",
    "\n",
    "demo = gr.Interface(fn = classify_image,inputs = image,outputs = label,interpretation = 'default')\n",
    "demo.launch(share = True)"
   ]
  },
  {
   "cell_type": "code",
   "execution_count": 18,
   "id": "891a6a3a",
   "metadata": {},
   "outputs": [
    {
     "name": "stdout",
     "output_type": "stream",
     "text": [
      "Running on local URL:  http://127.0.0.1:7873/\n",
      "\n",
      "To create a public link, set `share=True` in `launch()`.\n"
     ]
    },
    {
     "data": {
      "text/html": [
       "<div><iframe src=\"http://127.0.0.1:7873/\" width=\"900\" height=\"500\" allow=\"autoplay; camera; microphone;\" frameborder=\"0\" allowfullscreen></iframe></div>"
      ],
      "text/plain": [
       "<IPython.core.display.HTML object>"
      ]
     },
     "metadata": {},
     "output_type": "display_data"
    },
    {
     "data": {
      "text/plain": [
       "(<gradio.routes.App at 0x1c25aef6520>, 'http://127.0.0.1:7873/', None)"
      ]
     },
     "execution_count": 18,
     "metadata": {},
     "output_type": "execute_result"
    }
   ],
   "source": [
    "import gradio as gr\n",
    "male_words,female_words = ['he','his','him'],['she','hers','her']\n",
    "\n",
    "def gender_of_sentence(sentence):\n",
    "    male_count = len([word for word in sentence.split() if word.lower() in male_words])\n",
    "    female_count = len([word for word in sentence.split() if word.lower() in female_words])\n",
    "    total = max(male_count + female_count,1)\n",
    "    return {'male': male_count / total,'female' : female_count / total}\n",
    "\n",
    "demo = gr.Interface(fn = gender_of_sentence,inputs=gr.Textbox(value='she has a cute dog.'),\n",
    "                   outputs = 'label',interpretation='default')\n",
    "demo.launch()"
   ]
  },
  {
   "cell_type": "code",
   "execution_count": null,
   "id": "b1032b45",
   "metadata": {},
   "outputs": [],
   "source": []
  },
  {
   "cell_type": "code",
   "execution_count": null,
   "id": "7b1e0cc6",
   "metadata": {},
   "outputs": [],
   "source": []
  },
  {
   "cell_type": "code",
   "execution_count": 19,
   "id": "e4219172",
   "metadata": {},
   "outputs": [
    {
     "name": "stdout",
     "output_type": "stream",
     "text": [
      "Running on local URL:  http://127.0.0.1:7874/\n",
      "\n",
      "To create a public link, set `share=True` in `launch()`.\n"
     ]
    },
    {
     "data": {
      "text/html": [
       "<div><iframe src=\"http://127.0.0.1:7874/\" width=\"900\" height=\"500\" allow=\"autoplay; camera; microphone;\" frameborder=\"0\" allowfullscreen></iframe></div>"
      ],
      "text/plain": [
       "<IPython.core.display.HTML object>"
      ]
     },
     "metadata": {},
     "output_type": "display_data"
    },
    {
     "data": {
      "text/plain": [
       "(<gradio.routes.App at 0x1c25aecf370>, 'http://127.0.0.1:7874/', None)"
      ]
     },
     "execution_count": 19,
     "metadata": {},
     "output_type": "execute_result"
    }
   ],
   "source": [
    "import re\n",
    "\n",
    "import gradio as gr\n",
    "\n",
    "male_words, female_words = [\"he\", \"his\", \"him\"], [\"she\", \"hers\", \"her\"]\n",
    "\n",
    "\n",
    "def gender_of_sentence(sentence):\n",
    "    male_count = len([word for word in sentence.split() if word.lower() in male_words])\n",
    "    female_count = len(\n",
    "        [word for word in sentence.split() if word.lower() in female_words]\n",
    "    )\n",
    "    total = max(male_count + female_count, 1)\n",
    "    return {\"male\": male_count / total, \"female\": female_count / total}\n",
    "\n",
    "\n",
    "# Number of arguments to interpretation function must\n",
    "# match number of inputs to prediction function\n",
    "def interpret_gender(sentence):\n",
    "    result = gender_of_sentence(sentence)\n",
    "    is_male = result[\"male\"] > result[\"female\"]\n",
    "    interpretation = []\n",
    "    for word in re.split(\"( )\", sentence):\n",
    "        score = 0\n",
    "        token = word.lower()\n",
    "        if (is_male and token in male_words) or (not is_male and token in female_words):\n",
    "            score = 1\n",
    "        elif (is_male and token in female_words) or (\n",
    "            not is_male and token in male_words\n",
    "        ):\n",
    "            score = -1\n",
    "        interpretation.append((word, score))\n",
    "    # Output must be a list of lists containing the same number of elements as inputs\n",
    "    # Each element corresponds to the interpretation scores for the given input\n",
    "    return [interpretation]\n",
    "\n",
    "\n",
    "demo = gr.Interface(\n",
    "    fn=gender_of_sentence,\n",
    "    inputs=gr.Textbox(value=\"She went to his house to get her keys.\"),\n",
    "    outputs=\"label\",\n",
    "    interpretation=interpret_gender,\n",
    ")\n",
    "\n",
    "demo.launch()"
   ]
  },
  {
   "cell_type": "code",
   "execution_count": 20,
   "id": "e6a41bf0",
   "metadata": {},
   "outputs": [
    {
     "name": "stdout",
     "output_type": "stream",
     "text": [
      "Fetching model from: https://huggingface.co/gpt2\n",
      "Running on local URL:  http://127.0.0.1:7875/\n",
      "\n",
      "To create a public link, set `share=True` in `launch()`.\n"
     ]
    },
    {
     "data": {
      "text/html": [
       "<div><iframe src=\"http://127.0.0.1:7875/\" width=\"900\" height=\"500\" allow=\"autoplay; camera; microphone;\" frameborder=\"0\" allowfullscreen></iframe></div>"
      ],
      "text/plain": [
       "<IPython.core.display.HTML object>"
      ]
     },
     "metadata": {},
     "output_type": "display_data"
    },
    {
     "data": {
      "text/plain": [
       "(<gradio.routes.App at 0x1c25a6cb340>, 'http://127.0.0.1:7875/', None)"
      ]
     },
     "execution_count": 20,
     "metadata": {},
     "output_type": "execute_result"
    }
   ],
   "source": [
    "gr.Interface.load(\"huggingface/gpt2\").launch()"
   ]
  },
  {
   "cell_type": "code",
   "execution_count": 7,
   "id": "7b706f48",
   "metadata": {},
   "outputs": [
    {
     "name": "stdout",
     "output_type": "stream",
     "text": [
      "Running on local URL:  http://127.0.0.1:7865/\n",
      "Running on public URL: https://10119.gradio.app\n",
      "\n",
      "This share link expires in 72 hours. For free permanent hosting, check out Spaces: https://huggingface.co/spaces\n"
     ]
    },
    {
     "data": {
      "text/html": [
       "<div><iframe src=\"https://10119.gradio.app\" width=\"900\" height=\"500\" allow=\"autoplay; camera; microphone;\" frameborder=\"0\" allowfullscreen></iframe></div>"
      ],
      "text/plain": [
       "<IPython.core.display.HTML object>"
      ]
     },
     "metadata": {},
     "output_type": "display_data"
    },
    {
     "data": {
      "text/plain": [
       "(<gradio.routes.App at 0x1d8ecd05fa0>,\n",
       " 'http://127.0.0.1:7865/',\n",
       " 'https://10119.gradio.app')"
      ]
     },
     "execution_count": 7,
     "metadata": {},
     "output_type": "execute_result"
    }
   ],
   "source": [
    "import gradio as gr\n",
    "def  welcome(name):\n",
    "    return f\"Welcome to Gradio,{name}!\"\n",
    "\n",
    "with gr.Blocks() as demo:\n",
    "    gr.Markdown(\n",
    "    '''\n",
    "    #Hello world!\n",
    "    Start typing below to see the output.\n",
    "    ''')\n",
    "    inp = gr.Textbox(placeholder=\"What's your name ?\")\n",
    "    out = gr.Textbox()\n",
    "    inp.change(welcome,inp,out)\n",
    "    \n",
    "demo.launch(share = True)"
   ]
  },
  {
   "cell_type": "code",
   "execution_count": 5,
   "id": "045b2594",
   "metadata": {},
   "outputs": [
    {
     "name": "stderr",
     "output_type": "stream",
     "text": [
      "Some weights of Wav2Vec2ForCTC were not initialized from the model checkpoint at facebook/wav2vec2-base-960h and are newly initialized: ['wav2vec2.masked_spec_embed']\n",
      "You should probably TRAIN this model on a down-stream task to be able to use it for predictions and inference.\n",
      "No model was supplied, defaulted to distilbert-base-uncased-finetuned-sst-2-english and revision af0f99b (https://huggingface.co/distilbert-base-uncased-finetuned-sst-2-english).\n",
      "Using a pipeline without specifying a model name and revision in production is not recommended.\n"
     ]
    },
    {
     "name": "stdout",
     "output_type": "stream",
     "text": [
      "Running on local URL:  http://127.0.0.1:7861/\n",
      "\n",
      "To create a public link, set `share=True` in `launch()`.\n"
     ]
    },
    {
     "data": {
      "text/html": [
       "<div><iframe src=\"http://127.0.0.1:7861/\" width=\"900\" height=\"500\" allow=\"autoplay; camera; microphone;\" frameborder=\"0\" allowfullscreen></iframe></div>"
      ],
      "text/plain": [
       "<IPython.core.display.HTML object>"
      ]
     },
     "metadata": {},
     "output_type": "display_data"
    },
    {
     "data": {
      "text/plain": [
       "(<gradio.routes.App at 0x174e27011f0>, 'http://127.0.0.1:7861/', None)"
      ]
     },
     "execution_count": 5,
     "metadata": {},
     "output_type": "execute_result"
    },
    {
     "name": "stderr",
     "output_type": "stream",
     "text": [
      "Traceback (most recent call last):\n",
      "  File \"C:\\Users\\linnn\\anaconda3\\lib\\site-packages\\gradio\\routes.py\", line 255, in run_predict\n",
      "    output = await app.blocks.process_api(\n",
      "  File \"C:\\Users\\linnn\\anaconda3\\lib\\site-packages\\gradio\\blocks.py\", line 627, in process_api\n",
      "    processed_input = self.preprocess_data(fn_index, raw_input, state)\n",
      "  File \"C:\\Users\\linnn\\anaconda3\\lib\\site-packages\\gradio\\blocks.py\", line 531, in preprocess_data\n",
      "    processed_input.append(block.preprocess(raw_input[i]))\n",
      "  File \"C:\\Users\\linnn\\anaconda3\\lib\\site-packages\\gradio\\components.py\", line 1986, in preprocess\n",
      "    raise ValueError(\n",
      "ValueError: Unknown type: C:\\Users\\linnn\\Desktop\\aa.m4a. Please choose from: 'numpy', 'filepath'.\n",
      "Traceback (most recent call last):\n",
      "  File \"C:\\Users\\linnn\\anaconda3\\lib\\site-packages\\gradio\\routes.py\", line 255, in run_predict\n",
      "    output = await app.blocks.process_api(\n",
      "  File \"C:\\Users\\linnn\\anaconda3\\lib\\site-packages\\gradio\\blocks.py\", line 627, in process_api\n",
      "    processed_input = self.preprocess_data(fn_index, raw_input, state)\n",
      "  File \"C:\\Users\\linnn\\anaconda3\\lib\\site-packages\\gradio\\blocks.py\", line 531, in preprocess_data\n",
      "    processed_input.append(block.preprocess(raw_input[i]))\n",
      "  File \"C:\\Users\\linnn\\anaconda3\\lib\\site-packages\\gradio\\components.py\", line 1986, in preprocess\n",
      "    raise ValueError(\n",
      "ValueError: Unknown type: C:\\Users\\linnn\\Desktop\\aa.m4a. Please choose from: 'numpy', 'filepath'.\n",
      "Traceback (most recent call last):\n",
      "  File \"C:\\Users\\linnn\\anaconda3\\lib\\site-packages\\gradio\\routes.py\", line 255, in run_predict\n",
      "    output = await app.blocks.process_api(\n",
      "  File \"C:\\Users\\linnn\\anaconda3\\lib\\site-packages\\gradio\\blocks.py\", line 627, in process_api\n",
      "    processed_input = self.preprocess_data(fn_index, raw_input, state)\n",
      "  File \"C:\\Users\\linnn\\anaconda3\\lib\\site-packages\\gradio\\blocks.py\", line 531, in preprocess_data\n",
      "    processed_input.append(block.preprocess(raw_input[i]))\n",
      "  File \"C:\\Users\\linnn\\anaconda3\\lib\\site-packages\\gradio\\components.py\", line 1986, in preprocess\n",
      "    raise ValueError(\n",
      "ValueError: Unknown type: C:\\Users\\linnn\\Desktop\\aa.m4a. Please choose from: 'numpy', 'filepath'.\n",
      "Traceback (most recent call last):\n",
      "  File \"C:\\Users\\linnn\\anaconda3\\lib\\site-packages\\gradio\\routes.py\", line 255, in run_predict\n",
      "    output = await app.blocks.process_api(\n",
      "  File \"C:\\Users\\linnn\\anaconda3\\lib\\site-packages\\gradio\\blocks.py\", line 627, in process_api\n",
      "    processed_input = self.preprocess_data(fn_index, raw_input, state)\n",
      "  File \"C:\\Users\\linnn\\anaconda3\\lib\\site-packages\\gradio\\blocks.py\", line 531, in preprocess_data\n",
      "    processed_input.append(block.preprocess(raw_input[i]))\n",
      "  File \"C:\\Users\\linnn\\anaconda3\\lib\\site-packages\\gradio\\components.py\", line 1986, in preprocess\n",
      "    raise ValueError(\n",
      "ValueError: Unknown type: C:\\Users\\linnn\\Desktop\\aa.m4a. Please choose from: 'numpy', 'filepath'.\n",
      "Traceback (most recent call last):\n",
      "  File \"C:\\Users\\linnn\\anaconda3\\lib\\site-packages\\gradio\\routes.py\", line 255, in run_predict\n",
      "    output = await app.blocks.process_api(\n",
      "  File \"C:\\Users\\linnn\\anaconda3\\lib\\site-packages\\gradio\\blocks.py\", line 627, in process_api\n",
      "    processed_input = self.preprocess_data(fn_index, raw_input, state)\n",
      "  File \"C:\\Users\\linnn\\anaconda3\\lib\\site-packages\\gradio\\blocks.py\", line 531, in preprocess_data\n",
      "    processed_input.append(block.preprocess(raw_input[i]))\n",
      "  File \"C:\\Users\\linnn\\anaconda3\\lib\\site-packages\\gradio\\components.py\", line 1986, in preprocess\n",
      "    raise ValueError(\n",
      "ValueError: Unknown type: C:\\Users\\linnn\\Desktop\\aa.m4a. Please choose from: 'numpy', 'filepath'.\n"
     ]
    }
   ],
   "source": [
    "from transformers import pipeline\n",
    "\n",
    "import gradio as gr\n",
    "\n",
    "asr = pipeline(\"automatic-speech-recognition\", \"facebook/wav2vec2-base-960h\")\n",
    "classifier = pipeline(\"text-classification\")\n",
    "\n",
    "\n",
    "def speech_to_text(speech):\n",
    "    text = asr(speech)[\"text\"]\n",
    "    return text\n",
    "\n",
    "\n",
    "def text_to_sentiment(text):\n",
    "    return classifier(text)[0][\"label\"]\n",
    "\n",
    "\n",
    "demo = gr.Blocks()\n",
    "\n",
    "with demo:\n",
    "    audio_file = gr.Audio(type=\"filepath\")\n",
    "    text = gr.Textbox()\n",
    "    label = gr.Label()\n",
    "\n",
    "    b1 = gr.Button(\"Recognize Speech\")\n",
    "    b2 = gr.Button(\"Classify Sentiment\")\n",
    "\n",
    "    b1.click(speech_to_text, inputs=audio_file, outputs=text)\n",
    "    b2.click(text_to_sentiment, inputs=text, outputs=label)\n",
    "\n",
    "demo.launch()"
   ]
  },
  {
   "cell_type": "code",
   "execution_count": null,
   "id": "454923bd",
   "metadata": {},
   "outputs": [],
   "source": [
    "import gradio as gr\n",
    "def change_textbox(choice):\n",
    "    if choice == 'short':\n",
    "        return gr.update(lines=2,visible=True,value='Short story: ')\n",
    "    elif choice == 'long':\n",
    "        return gr.update(lines=8,vivsible=True,values = 'Long story ..')\n",
    "    else:\n",
    "        return gr.update(visible=False)\n",
    "    \n",
    "with gr.Blocks() as demo:\n",
    "    radio = gr.Radio(['Short','long','none'],label = 'Essay Length to Write ?')\n",
    "    text = gr.Textbox(lines=2,interactive=True)\n",
    "    radio.change(fn = )"
   ]
  },
  {
   "cell_type": "code",
   "execution_count": null,
   "id": "dc6c4fa4",
   "metadata": {},
   "outputs": [],
   "source": []
  },
  {
   "cell_type": "code",
   "execution_count": null,
   "id": "bba57c41",
   "metadata": {},
   "outputs": [],
   "source": []
  }
 ],
 "metadata": {
  "kernelspec": {
   "display_name": "Python 3",
   "language": "python",
   "name": "python3"
  },
  "language_info": {
   "codemirror_mode": {
    "name": "ipython",
    "version": 3
   },
   "file_extension": ".py",
   "mimetype": "text/x-python",
   "name": "python",
   "nbconvert_exporter": "python",
   "pygments_lexer": "ipython3",
   "version": "3.8.8"
  }
 },
 "nbformat": 4,
 "nbformat_minor": 5
}
